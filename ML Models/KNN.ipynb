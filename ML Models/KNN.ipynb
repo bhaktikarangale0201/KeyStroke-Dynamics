{
  "nbformat": 4,
  "nbformat_minor": 0,
  "metadata": {
    "colab": {
      "name": "KNN.ipynb",
      "provenance": [],
      "collapsed_sections": []
    },
    "kernelspec": {
      "name": "python3",
      "display_name": "Python 3"
    },
    "language_info": {
      "name": "python"
    }
  },
  "cells": [
    {
      "cell_type": "code",
      "execution_count": 39,
      "metadata": {
        "id": "78xcDxSj4Rj3"
      },
      "outputs": [],
      "source": [
        "import pandas as pd\n",
        "import numpy as np\n",
        "import matplotlib.pyplot as plt\n",
        "import seaborn as sns\n",
        "%matplotlib inline\n",
        "from matplotlib.colors import ListedColormap\n",
        "from sklearn.model_selection import train_test_split\n",
        "from sklearn import metrics\n",
        "from sklearn.preprocessing import StandardScaler\n",
        "from sklearn.metrics import classification_report,confusion_matrix\n",
        "from sklearn.neighbors import KNeighborsClassifier"
      ]
    },
    {
      "cell_type": "code",
      "source": [
        "data = pd.read_csv  ( '/content/KeystrokeData.csv')\n"
      ],
      "metadata": {
        "id": "gU9yDF8G4pPa"
      },
      "execution_count": 40,
      "outputs": []
    },
    {
      "cell_type": "code",
      "source": [
        "train, test = train_test_split(data, test_size = 0.2)\n",
        "features = list(data.columns[1:32])\n",
        "\n",
        "X_train = train[features]\n",
        "y_train = train['Target']\n",
        "X_test = test[features]\n",
        "y_test = test['Target']"
      ],
      "metadata": {
        "id": "3vnM97Mi83IU"
      },
      "execution_count": 41,
      "outputs": []
    },
    {
      "cell_type": "code",
      "source": [
        "knn = KNeighborsClassifier(n_neighbors=5)\n",
        "knn.fit(X_train, y_train)"
      ],
      "metadata": {
        "colab": {
          "base_uri": "https://localhost:8080/"
        },
        "id": "TaIXl-mb84Oa",
        "outputId": "121df284-75ca-4adc-f52e-98a02a68a088"
      },
      "execution_count": 42,
      "outputs": [
        {
          "output_type": "execute_result",
          "data": {
            "text/plain": [
              "KNeighborsClassifier()"
            ]
          },
          "metadata": {},
          "execution_count": 42
        }
      ]
    },
    {
      "cell_type": "code",
      "source": [
        "y_test.count()"
      ],
      "metadata": {
        "colab": {
          "base_uri": "https://localhost:8080/"
        },
        "id": "2f1FGMku9KZ4",
        "outputId": "bcb289eb-8e1c-4084-caa1-676c373c0a0b"
      },
      "execution_count": 43,
      "outputs": [
        {
          "output_type": "execute_result",
          "data": {
            "text/plain": [
              "285"
            ]
          },
          "metadata": {},
          "execution_count": 43
        }
      ]
    },
    {
      "cell_type": "code",
      "source": [
        "pred = knn.predict(X_test)\n",
        "cm = confusion_matrix(y_test,pred)\n",
        "print(cm)\n"
      ],
      "metadata": {
        "colab": {
          "base_uri": "https://localhost:8080/"
        },
        "id": "R4GzkgAv9N4Z",
        "outputId": "7737c55a-7d9f-4d50-9b72-0ec770cb9975"
      },
      "execution_count": 44,
      "outputs": [
        {
          "output_type": "stream",
          "name": "stdout",
          "text": [
            "[[138   2]\n",
            " [  6 139]]\n"
          ]
        }
      ]
    },
    {
      "cell_type": "code",
      "source": [
        "print(classification_report(y_test,pred))"
      ],
      "metadata": {
        "colab": {
          "base_uri": "https://localhost:8080/"
        },
        "id": "ZL22YM1J9Q_6",
        "outputId": "19b60088-fb8f-4309-b9cb-8a373916420d"
      },
      "execution_count": 45,
      "outputs": [
        {
          "output_type": "stream",
          "name": "stdout",
          "text": [
            "              precision    recall  f1-score   support\n",
            "\n",
            "     Genuine       0.96      0.99      0.97       140\n",
            "    Imposter       0.99      0.96      0.97       145\n",
            "\n",
            "    accuracy                           0.97       285\n",
            "   macro avg       0.97      0.97      0.97       285\n",
            "weighted avg       0.97      0.97      0.97       285\n",
            "\n"
          ]
        }
      ]
    },
    {
      "cell_type": "code",
      "source": [
        "model_accuracy = metrics.accuracy_score(y_test, pred)\n",
        "print('Accuracy of Model is : ',model_accuracy)"
      ],
      "metadata": {
        "colab": {
          "base_uri": "https://localhost:8080/"
        },
        "id": "HrVJigg69Yzf",
        "outputId": "4b6f764f-5cd1-450f-8002-3c249bfbc0a8"
      },
      "execution_count": 46,
      "outputs": [
        {
          "output_type": "stream",
          "name": "stdout",
          "text": [
            "Accuracy of Model is :  0.9719298245614035\n"
          ]
        }
      ]
    }
  ]
}
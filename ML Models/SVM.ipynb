{
  "nbformat": 4,
  "nbformat_minor": 0,
  "metadata": {
    "colab": {
      "name": "SVM.ipynb",
      "provenance": []
    },
    "kernelspec": {
      "name": "python3",
      "display_name": "Python 3"
    },
    "language_info": {
      "name": "python"
    }
  },
  "cells": [
    {
      "cell_type": "code",
      "execution_count": 29,
      "metadata": {
        "id": "TqxOaFjA_0Nj"
      },
      "outputs": [],
      "source": [
        "import pandas as pd\n",
        "import numpy as np\n",
        "import matplotlib.pyplot as plt\n",
        "%matplotlib inline\n",
        "from matplotlib.colors import ListedColormap\n",
        "from sklearn.model_selection import train_test_split\n",
        "from sklearn import svm\n",
        "from sklearn import metrics\n",
        "from sklearn.preprocessing import StandardScaler\n",
        "from sklearn.metrics import classification_report,confusion_matrix"
      ]
    },
    {
      "cell_type": "code",
      "source": [
        "data = pd.read_csv  ( '/content/KeystrokeData.csv')"
      ],
      "metadata": {
        "id": "KCPIb8S_F2DC"
      },
      "execution_count": 30,
      "outputs": []
    },
    {
      "cell_type": "code",
      "source": [
        "cls = svm.SVC(kernel=\"linear\")"
      ],
      "metadata": {
        "id": "mBQLGBcdJ692"
      },
      "execution_count": 31,
      "outputs": []
    },
    {
      "cell_type": "code",
      "source": [
        "train, test = train_test_split(data, test_size = 0.2)\n",
        "features = list(data.columns[1:32])\n",
        "\n",
        "X_train = train[features]\n",
        "y_train = train['Target']\n",
        "X_test = test[features]\n",
        "y_test = test['Target']"
      ],
      "metadata": {
        "id": "8I-IKgimLFRZ"
      },
      "execution_count": 32,
      "outputs": []
    },
    {
      "cell_type": "code",
      "source": [
        "cls.fit(X_train, y_train)"
      ],
      "metadata": {
        "colab": {
          "base_uri": "https://localhost:8080/"
        },
        "id": "Uao8VYc-KmjD",
        "outputId": "c8402fbb-36bf-418d-bd8f-3f97f1f1083e"
      },
      "execution_count": 33,
      "outputs": [
        {
          "output_type": "execute_result",
          "data": {
            "text/plain": [
              "SVC(kernel='linear')"
            ]
          },
          "metadata": {},
          "execution_count": 33
        }
      ]
    },
    {
      "cell_type": "code",
      "source": [
        "pred = cls.predict(X_test)"
      ],
      "metadata": {
        "id": "O9AFVrILKwEa"
      },
      "execution_count": 34,
      "outputs": []
    },
    {
      "cell_type": "code",
      "source": [
        "print(\"Accuracy:\", metrics.accuracy_score(y_test, y_pred=pred))"
      ],
      "metadata": {
        "colab": {
          "base_uri": "https://localhost:8080/"
        },
        "id": "84x30xh2LPbO",
        "outputId": "1dfe013b-d747-4d9f-95cd-7bcf79dcc22f"
      },
      "execution_count": 35,
      "outputs": [
        {
          "output_type": "stream",
          "name": "stdout",
          "text": [
            "Accuracy: 0.9543859649122807\n"
          ]
        }
      ]
    },
    {
      "cell_type": "code",
      "source": [
        "print(classification_report(y_test,pred))"
      ],
      "metadata": {
        "colab": {
          "base_uri": "https://localhost:8080/"
        },
        "id": "y7BI6YCwMxU4",
        "outputId": "0268745b-d0fb-46c3-dcda-7b9c96ba0276"
      },
      "execution_count": 36,
      "outputs": [
        {
          "output_type": "stream",
          "name": "stdout",
          "text": [
            "              precision    recall  f1-score   support\n",
            "\n",
            "     Genuine       0.93      0.98      0.95       128\n",
            "    Imposter       0.98      0.94      0.96       157\n",
            "\n",
            "    accuracy                           0.95       285\n",
            "   macro avg       0.95      0.96      0.95       285\n",
            "weighted avg       0.96      0.95      0.95       285\n",
            "\n"
          ]
        }
      ]
    },
    {
      "cell_type": "code",
      "source": [
        "cm = confusion_matrix(y_test,pred)\n",
        "print(cm)"
      ],
      "metadata": {
        "colab": {
          "base_uri": "https://localhost:8080/"
        },
        "id": "gqMHqjRfMyLI",
        "outputId": "b7bcd93e-f988-4ba7-a5e6-fb3dd59cfbf7"
      },
      "execution_count": 37,
      "outputs": [
        {
          "output_type": "stream",
          "name": "stdout",
          "text": [
            "[[125   3]\n",
            " [ 10 147]]\n"
          ]
        }
      ]
    }
  ]
}